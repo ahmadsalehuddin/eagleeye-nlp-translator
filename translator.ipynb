{
 "cells": [
  {
   "cell_type": "code",
   "execution_count": 31,
   "metadata": {},
   "outputs": [],
   "source": [
    "from deep_translator import GoogleTranslator, ChatGptTranslator"
   ]
  },
  {
   "cell_type": "code",
   "execution_count": 32,
   "metadata": {},
   "outputs": [],
   "source": [
    "def read_text_input(input_file):\n",
    "    input_text = ''\n",
    "    with open(input_file, 'r', newline='') as text_file:\n",
    "        input_text = text_file.read()\n",
    "    return input_text"
   ]
  },
  {
   "cell_type": "code",
   "execution_count": 33,
   "metadata": {},
   "outputs": [],
   "source": [
    "input_file = './Dr_Mahathir_Mohamad.txt'\n",
    "source_lang = 'ms'\n",
    "target_lang = 'en'\n",
    "mahathir_mohamad = read_text_input(input_file)"
   ]
  },
  {
   "cell_type": "code",
   "execution_count": 34,
   "metadata": {},
   "outputs": [
    {
     "name": "stdout",
     "output_type": "stream",
     "text": [
      "Tun Dr. Mahathir bin Mohamad (born 10 July 1925) or also known as \"Tun M\" is a Malaysian doctor and politician who served as the 4th (1981-2003) and 7th (2018-2020) Prime Minister of Malaysia. His service of 2 times and 24 years makes him the longest serving Prime Minister of Malaysia and the first to hold the position 2 times. In the book A Doctor in the House, Dr Mahathir stated that his actual date of birth was 10 July 1925, but his father registered the date of birth on the birth certificate as 20 December to facilitate school registration. Using his own nickname, \"Che Det\" as a pen name, he wrote a lot with his first article published by Singapore's The Straits Times newspaper on July 20, 1947 titled \"Malay Women Make Their Own Freedom\" (Malay Women Make Their Own Freedom). During his administration from 16 July 1981 to 31 October 2003, he succeeded in bringing development through policies and plans inspired by the success of foreign countries to elevate Malaysia to the world stage as one of the viable countries in Southeast Asia. Mahathir was born on 10 July 1925 (his official birth date was recorded as 20 December 1925) in Kampung Seberang Perak, Alor Setar, Kedah, an area he himself recognized as a poor area. His parents are Mohamad Iskandar and Wan Tempawan Wan Hanafi. Mahathir is the youngest of nine siblings. He received his early education at Seberang Perak Malay School for two years before entering the government's English school which later changed its name to Sultan Abdul Hamid College, where his father was the head teacher. As a student, Mahathir actively debated and was known for his English skills. He was appointed editor of the school magazine and played for the school rugby team.\n"
     ]
    }
   ],
   "source": [
    "# Google Translator\n",
    "google_translated_mahathir = GoogleTranslator(source=source_lang, target=target_lang).translate(mahathir_mohamad)\n",
    "print(google_translated_mahathir)"
   ]
  },
  {
   "cell_type": "code",
   "execution_count": 35,
   "metadata": {},
   "outputs": [
    {
     "data": {
      "text/plain": [
       "'Tun Dr. Mahathir bin Mohamad (born on 10 July 1925), also known as \"Tun M,\" is a Malaysian doctor and politician who served as the 4th (1981-2003) and 7th (2018-2020) Prime Minister of Malaysia. His two terms and 24 years of service make him the longest-serving Prime Minister of Malaysia and the first to hold the position twice. In his book, A Doctor in the House, Dr. Mahathir stated that his actual date of birth is 10 July 1925, but his father registered 20 December on his birth certificate to facilitate school registration. Using his nickname, \"Che Det,\" as his pen name, he wrote extensively, with his first article published by The Straits Times Singapore on 20 July 1947, titled \"Malay Women Make Their Own Freedom.\" During his administration from 16 July 1981 to 31 October 2003, he successfully brought about development through policies and plans inspired by the success of other countries, elevating Malaysia to the world stage as one of the advanced countries in Southeast Asia. Mahathir was born on 10 July 1925 (officially recorded as 20 December 1925) in Kampung Seberang Perak, Alor Setar, Kedah, a region he himself recognized as impoverished. His parents were Mohamad Iskandar and Wan Tempawan Wan Hanafi. Mahathir was the youngest of nine siblings. He received his early education at Sekolah Melayu Seberang Perak for two years before entering a government English school that was later renamed Kolej Sultan Abdul Hamid, where his father was the headmaster. As a student, Mahathir actively debated and became known for his proficiency in the English language. He was appointed as the editor of the school magazine and played for the school rugby team.'"
      ]
     },
     "execution_count": 35,
     "metadata": {},
     "output_type": "execute_result"
    }
   ],
   "source": [
    "# ChatGPT Translator\n",
    "chatgpt_api = 'YOUR_API_KEY'\n",
    "chatgpt_translated_mahathir = ChatGptTranslator(api_key=chatgpt_api, target=target_lang).translate(text=mahathir_mohamad)\n",
    "chatgpt_translated_mahathir"
   ]
  }
 ],
 "metadata": {
  "kernelspec": {
   "display_name": "eagleeye-nlp-translator",
   "language": "python",
   "name": "python3"
  },
  "language_info": {
   "codemirror_mode": {
    "name": "ipython",
    "version": 3
   },
   "file_extension": ".py",
   "mimetype": "text/x-python",
   "name": "python",
   "nbconvert_exporter": "python",
   "pygments_lexer": "ipython3",
   "version": "3.11.5"
  }
 },
 "nbformat": 4,
 "nbformat_minor": 2
}
